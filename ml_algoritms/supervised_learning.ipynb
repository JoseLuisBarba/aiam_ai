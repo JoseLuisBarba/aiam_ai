{
  "cells": [
    {
      "cell_type": "code",
      "execution_count": 3,
      "metadata": {
        "id": "3oTRsQIFur4O"
      },
      "outputs": [],
      "source": [
        "import pandas as pd\n",
        "import numpy as np\n",
        "import matplotlib.pyplot as plt\n",
        "import seaborn as sns\n",
        "import scipy.stats as stats\n",
        "from sklearn.metrics import r2_score\n",
        "import io\n",
        "import requests"
      ]
    },
    {
      "cell_type": "code",
      "execution_count": 4,
      "metadata": {
        "colab": {
          "base_uri": "https://localhost:8080/",
          "height": 206
        },
        "id": "H14IhivsM4Z5",
        "outputId": "57790905-5241-4c77-96e4-18b5196d7b89"
      },
      "outputs": [
        {
          "data": {
            "text/html": [
              "<div>\n",
              "<style scoped>\n",
              "    .dataframe tbody tr th:only-of-type {\n",
              "        vertical-align: middle;\n",
              "    }\n",
              "\n",
              "    .dataframe tbody tr th {\n",
              "        vertical-align: top;\n",
              "    }\n",
              "\n",
              "    .dataframe thead th {\n",
              "        text-align: right;\n",
              "    }\n",
              "</style>\n",
              "<table border=\"1\" class=\"dataframe\">\n",
              "  <thead>\n",
              "    <tr style=\"text-align: right;\">\n",
              "      <th></th>\n",
              "      <th>TV</th>\n",
              "      <th>Radio</th>\n",
              "      <th>Newspaper</th>\n",
              "      <th>Sales</th>\n",
              "    </tr>\n",
              "  </thead>\n",
              "  <tbody>\n",
              "    <tr>\n",
              "      <th>0</th>\n",
              "      <td>230.1</td>\n",
              "      <td>37.8</td>\n",
              "      <td>69.2</td>\n",
              "      <td>22.1</td>\n",
              "    </tr>\n",
              "    <tr>\n",
              "      <th>1</th>\n",
              "      <td>44.5</td>\n",
              "      <td>39.3</td>\n",
              "      <td>45.1</td>\n",
              "      <td>10.4</td>\n",
              "    </tr>\n",
              "    <tr>\n",
              "      <th>2</th>\n",
              "      <td>17.2</td>\n",
              "      <td>45.9</td>\n",
              "      <td>69.3</td>\n",
              "      <td>12.0</td>\n",
              "    </tr>\n",
              "    <tr>\n",
              "      <th>3</th>\n",
              "      <td>151.5</td>\n",
              "      <td>41.3</td>\n",
              "      <td>58.5</td>\n",
              "      <td>16.5</td>\n",
              "    </tr>\n",
              "    <tr>\n",
              "      <th>4</th>\n",
              "      <td>180.8</td>\n",
              "      <td>10.8</td>\n",
              "      <td>58.4</td>\n",
              "      <td>17.9</td>\n",
              "    </tr>\n",
              "  </tbody>\n",
              "</table>\n",
              "</div>"
            ],
            "text/plain": [
              "      TV  Radio  Newspaper  Sales\n",
              "0  230.1   37.8       69.2   22.1\n",
              "1   44.5   39.3       45.1   10.4\n",
              "2   17.2   45.9       69.3   12.0\n",
              "3  151.5   41.3       58.5   16.5\n",
              "4  180.8   10.8       58.4   17.9"
            ]
          },
          "execution_count": 4,
          "metadata": {},
          "output_type": "execute_result"
        }
      ],
      "source": [
        "dataset =pd.read_csv(\"./data/advertising.csv\")\n",
        "dataset.head()"
      ]
    },
    {
      "cell_type": "code",
      "execution_count": 5,
      "metadata": {
        "colab": {
          "base_uri": "https://localhost:8080/"
        },
        "id": "QmKXWxULY5OM",
        "outputId": "99aa7842-ef36-45e9-a188-de31f1ed5014"
      },
      "outputs": [
        {
          "name": "stdout",
          "output_type": "stream",
          "text": [
            "<class 'pandas.core.frame.DataFrame'>\n",
            "RangeIndex: 200 entries, 0 to 199\n",
            "Data columns (total 4 columns):\n",
            " #   Column     Non-Null Count  Dtype  \n",
            "---  ------     --------------  -----  \n",
            " 0   TV         200 non-null    float64\n",
            " 1   Radio      200 non-null    float64\n",
            " 2   Newspaper  200 non-null    float64\n",
            " 3   Sales      200 non-null    float64\n",
            "dtypes: float64(4)\n",
            "memory usage: 6.4 KB\n"
          ]
        }
      ],
      "source": [
        "dataset.info()"
      ]
    },
    {
      "cell_type": "code",
      "execution_count": 6,
      "metadata": {
        "colab": {
          "base_uri": "https://localhost:8080/"
        },
        "id": "OwVDT4YnZIrv",
        "outputId": "ba725daa-1aa2-48c1-9038-c1488738633f"
      },
      "outputs": [
        {
          "data": {
            "text/plain": [
              "TV           0\n",
              "Radio        0\n",
              "Newspaper    0\n",
              "Sales        0\n",
              "dtype: int64"
            ]
          },
          "execution_count": 6,
          "metadata": {},
          "output_type": "execute_result"
        }
      ],
      "source": [
        "#checking the number of null data\n",
        "dataset.isnull().sum()"
      ]
    },
    {
      "cell_type": "code",
      "execution_count": 7,
      "metadata": {
        "id": "wQ0hLtZ1ZU3-"
      },
      "outputs": [],
      "source": [
        "# We calculate Pearson correlation coefficients\n",
        "# between advertisements of different media\n",
        "# and the mount of sales\n",
        "tv_corr = stats.pearsonr(dataset['TV'], dataset['Sales'])\n",
        "radio_corr = stats.pearsonr(dataset['Radio'], dataset['Sales'])\n",
        "newspaper_corr = stats.pearsonr(dataset['Newspaper'], dataset['Sales'])"
      ]
    },
    {
      "cell_type": "code",
      "execution_count": 8,
      "metadata": {
        "colab": {
          "base_uri": "https://localhost:8080/"
        },
        "id": "swHn5e3ZZ-Sz",
        "outputId": "8787137d-663f-4362-8cd2-96b4813bc6aa"
      },
      "outputs": [
        {
          "name": "stdout",
          "output_type": "stream",
          "text": [
            "Pearson c. tv-sales: PearsonRResult(statistic=0.9012079133023309, pvalue=7.927911625319444e-74)\n",
            "Pearson c. radio-sales: PearsonRResult(statistic=0.34963109700766926, pvalue=3.882892364493946e-07)\n",
            "Pearson c. newspaper-sales: PearsonRResult(statistic=0.1579600261549263, pvalue=0.025487444306996235)\n"
          ]
        }
      ],
      "source": [
        "print(f\"Pearson c. tv-sales: {tv_corr}\")\n",
        "print(f\"Pearson c. radio-sales: {radio_corr}\")\n",
        "print(f\"Pearson c. newspaper-sales: {newspaper_corr}\")"
      ]
    },
    {
      "cell_type": "code",
      "execution_count": 9,
      "metadata": {
        "colab": {
          "base_uri": "https://localhost:8080/",
          "height": 211
        },
        "id": "BXymIfX0adLy",
        "outputId": "c2b493f6-5377-4209-8941-26c90ace909f"
      },
      "outputs": [
        {
          "data": {
            "text/plain": [
              "TV    Axes(0.125,0.712609;0.775x0.167391)\n",
              "dtype: object"
            ]
          },
          "execution_count": 9,
          "metadata": {},
          "output_type": "execute_result"
        },
        {
          "data": {
            "image/png": "[encoded data removed]",
            "text/plain": [
              "<Figure size 1000x1000 with 4 Axes>"
            ]
          },
          "metadata": {},
          "output_type": "display_data"
        }
      ],
      "source": [
        "\n",
        "# Pearson correlation between Tv and Sales is the highest.\n",
        "# We choose TV\n",
        "# Whether TV data contain outliers or not from box plot\n",
        "dataset[\"TV\"].plot(\n",
        "    kind=\"box\",\n",
        "    subplots=True,\n",
        "    layout=(4,1),\n",
        "    figsize=(10,10)\n",
        ")"
      ]
    },
    {
      "cell_type": "code",
      "execution_count": 10,
      "metadata": {
        "id": "AXiEUBnjbog4"
      },
      "outputs": [],
      "source": [
        "# String data from dataset into variable\n",
        "tv = dataset[\"TV\"]\n",
        "sales = dataset[\"Sales\"]\n",
        "\n",
        "# maximun values\n",
        "tv_max = tv.max()\n",
        "sales_max = sales.max()\n",
        "\n",
        "# minimum values\n",
        "tv_min = tv.min()\n",
        "sales_min = sales.min()\n",
        "\n",
        "# range values\n",
        "tv_range = tv_max - tv_min\n",
        "\n",
        "# mean values\n",
        "tv_mean = np.mean(tv)\n",
        "sales_mean = np.mean(sales)\n",
        "\n",
        "# standar desviation\n",
        "tv_std = np.std(tv)\n",
        "sales_std = np.std(sales)\n"
      ]
    },
    {
      "cell_type": "code",
      "execution_count": 11,
      "metadata": {
        "id": "ogdXnNtYb8N5"
      },
      "outputs": [],
      "source": [
        "# Applying standard scaling on tv data\n",
        "# this scaled data will be used input data\n",
        "\n",
        "def standard_scaling(x: np.ndarray):\n",
        "    return (x - np.mean(x)) / (np.std(x) + 1e-10)"
      ]
    },
    {
      "cell_type": "code",
      "execution_count": 12,
      "metadata": {
        "id": "Sx9PKP0wbUs7"
      },
      "outputs": [],
      "source": [
        "tv = standard_scaling(tv)"
      ]
    },
    {
      "cell_type": "code",
      "execution_count": 13,
      "metadata": {
        "colab": {
          "base_uri": "https://localhost:8080/"
        },
        "id": "nvcz8rJyd8GC",
        "outputId": "3abb516b-9f63-4ab0-8f0a-c57e1f402da1"
      },
      "outputs": [
        {
          "data": {
            "text/plain": [
              "0      0.969852\n",
              "1     -1.197376\n",
              "2     -1.516155\n",
              "3      0.052050\n",
              "4      0.394182\n",
              "         ...   \n",
              "195   -1.270941\n",
              "196   -0.617035\n",
              "197    0.349810\n",
              "198    1.594565\n",
              "199    0.993206\n",
              "Name: TV, Length: 200, dtype: float64"
            ]
          },
          "execution_count": 13,
          "metadata": {},
          "output_type": "execute_result"
        }
      ],
      "source": [
        "tv"
      ]
    },
    {
      "cell_type": "code",
      "execution_count": 14,
      "metadata": {
        "colab": {
          "base_uri": "https://localhost:8080/"
        },
        "id": "CEzdIbc5d_cH",
        "outputId": "424e59d6-9e22-4eb9-98c4-3231ba1af0ff"
      },
      "outputs": [
        {
          "data": {
            "text/plain": [
              "array([[ 0.96985227],\n",
              "       [-1.19737623],\n",
              "       [-1.51615499],\n",
              "       [ 0.05204968],\n",
              "       [ 0.3941822 ],\n",
              "       [-1.61540845],\n",
              "       [-1.04557682],\n",
              "       [-0.31343659],\n",
              "       [-1.61657614],\n",
              "       [ 0.61604287]])"
            ]
          },
          "execution_count": 14,
          "metadata": {},
          "output_type": "execute_result"
        }
      ],
      "source": [
        "tv = np.array(tv)\n",
        "tv = np.reshape(tv, (len(tv), 1))\n",
        "tv[0:10]"
      ]
    },
    {
      "cell_type": "markdown",
      "metadata": {
        "id": "MOyOUh7_eYv-"
      },
      "source": [
        "Equation for simple linear regression is:\n",
        "\n",
        "$y = ϴ_0 + ϴ_1 x $.\n",
        "\n",
        "In our case,\n",
        "y = Sales and x = TV\n",
        "\n",
        "$sales = ϴ_0  + ϴ_1 TV$\n"
      ]
    },
    {
      "cell_type": "code",
      "execution_count": 15,
      "metadata": {
        "colab": {
          "base_uri": "https://localhost:8080/"
        },
        "id": "65dlqbsuea3H",
        "outputId": "155e279f-f203-47e9-bee1-95a82e1218ae"
      },
      "outputs": [
        {
          "data": {
            "text/plain": [
              "array([[1.],\n",
              "       [1.],\n",
              "       [1.],\n",
              "       [1.],\n",
              "       [1.]])"
            ]
          },
          "execution_count": 15,
          "metadata": {},
          "output_type": "execute_result"
        }
      ],
      "source": [
        "X_ones = np.ones((len(tv), 1))\n",
        "X_ones[0:5]"
      ]
    },
    {
      "cell_type": "code",
      "execution_count": 16,
      "metadata": {
        "colab": {
          "base_uri": "https://localhost:8080/"
        },
        "id": "rHnegl5veR_f",
        "outputId": "7d4b9d22-6367-4c7f-981b-c56f8ec280fc"
      },
      "outputs": [
        {
          "data": {
            "text/plain": [
              "array([[ 1.        ,  0.96985227],\n",
              "       [ 1.        , -1.19737623],\n",
              "       [ 1.        , -1.51615499],\n",
              "       [ 1.        ,  0.05204968],\n",
              "       [ 1.        ,  0.3941822 ]])"
            ]
          },
          "execution_count": 16,
          "metadata": {},
          "output_type": "execute_result"
        }
      ],
      "source": [
        "X = np.concatenate((X_ones, tv), axis=1)\n",
        "X[0:5] #input data columns"
      ]
    },
    {
      "cell_type": "code",
      "execution_count": 17,
      "metadata": {
        "colab": {
          "base_uri": "https://localhost:8080/"
        },
        "id": "zUDMfl0If494",
        "outputId": "bcb21b57-898a-4b4f-c0ba-a9fa7147a5aa"
      },
      "outputs": [
        {
          "data": {
            "text/plain": [
              "array([22.1, 10.4, 12. , 16.5, 17.9])"
            ]
          },
          "execution_count": 17,
          "metadata": {},
          "output_type": "execute_result"
        }
      ],
      "source": [
        "y_true = np.array(sales)\n",
        "y_true[0:5]"
      ]
    },
    {
      "cell_type": "code",
      "execution_count": 18,
      "metadata": {
        "colab": {
          "base_uri": "https://localhost:8080/"
        },
        "id": "rKl1qiqBgIyj",
        "outputId": "ed7ccb41-e41a-466e-ece8-10fca6d8debe"
      },
      "outputs": [
        {
          "data": {
            "text/plain": [
              "array([[22.1],\n",
              "       [10.4],\n",
              "       [12. ],\n",
              "       [16.5],\n",
              "       [17.9]])"
            ]
          },
          "execution_count": 18,
          "metadata": {},
          "output_type": "execute_result"
        }
      ],
      "source": [
        "y_true = np.reshape(y_true, (len(y_true), 1))\n",
        "y_true[0:5] # the sales data are stored as output"
      ]
    },
    {
      "cell_type": "code",
      "execution_count": 19,
      "metadata": {
        "id": "_OYcGe9JgSQ1"
      },
      "outputs": [],
      "source": [
        "# defining MSE function\n",
        "def loss_mse(y_true: np.ndarray, y_pred: np.ndarray):\n",
        "    loss = np.mean((y_true - y_pred) ** 2)\n",
        "    return loss"
      ]
    },
    {
      "cell_type": "code",
      "execution_count": 20,
      "metadata": {
        "id": "7J0Q5aMzgpXb"
      },
      "outputs": [],
      "source": [
        "# function for gradient calculation\n",
        "def grad(X: np.ndarray, y_true: np.ndarray, y_pred: np.ndarray):\n",
        "    grad_c = 2 * np.mean(y_pred - y_true)\n",
        "    grad_m = 2 * np.mean((y_pred - y_true) * X)\n",
        "    grad = np.array([grad_c, grad_m])\n",
        "    return grad"
      ]
    },
    {
      "cell_type": "code",
      "execution_count": 21,
      "metadata": {
        "id": "raHgrGW9g_Cc"
      },
      "outputs": [],
      "source": [
        "def train(\n",
        "      X: np.ndarray,\n",
        "      y_true: np.ndarray,\n",
        "      params: np.ndarray,\n",
        "      learning_rate: float\n",
        "    ):\n",
        "    #Model prediction as y_hat\n",
        "    y_hat = (params * X).sum(axis=1)\n",
        "    y_hat = np.reshape(y_hat, (len(y_hat), 1))\n",
        "    #Loss calculation\n",
        "    loss = loss_mse(y_true, y_hat)\n",
        "    #Gradient calculation\n",
        "    gradient = grad(X, y_true, y_hat)\n",
        "    new_params = params - learning_rate * gradient\n",
        "    return loss, new_params\n"
      ]
    },
    {
      "cell_type": "code",
      "execution_count": 22,
      "metadata": {
        "id": "MB2bH6MKiGZH"
      },
      "outputs": [],
      "source": [
        "# Splitting the dataset\n",
        "X_train = X[:180]\n",
        "X_test = X[180:]\n",
        "y_train = y_true[:180]\n",
        "y_test = y_true[180:]"
      ]
    },
    {
      "cell_type": "code",
      "execution_count": 23,
      "metadata": {
        "colab": {
          "base_uri": "https://localhost:8080/"
        },
        "id": "Cmz2cts3iXTL",
        "outputId": "375b22a9-27d8-4857-b151-fc705b46ccdd"
      },
      "outputs": [
        {
          "name": "stdout",
          "output_type": "stream",
          "text": [
            "Epoch 1 loss: 217.740264560379\n",
            "Epoch 2 loss: 136.62414034075607\n",
            "Epoch 3 loss: 87.52547343921952\n",
            "Epoch 4 loss: 57.858608931878756\n",
            "Epoch 5 loss: 39.91014564917161\n",
            "Epoch 6 loss: 28.983105242718597\n",
            "Epoch 7 loss: 22.238101941431413\n",
            "Epoch 8 loss: 17.972700755715614\n",
            "Epoch 9 loss: 15.17539976190225\n",
            "Epoch 10 loss: 13.251108937575928\n",
            "Epoch 11 loss: 11.8532787001845\n",
            "Epoch 12 loss: 10.782029159628713\n",
            "Epoch 13 loss: 9.922891362914871\n",
            "Epoch 14 loss: 9.210369802085966\n",
            "Epoch 15 loss: 8.606553398958242\n",
            "Epoch 16 loss: 8.088761809961902\n",
            "Epoch 17 loss: 7.6425527654052186\n",
            "Epoch 18 loss: 7.25786395507824\n",
            "Epoch 19 loss: 6.9269539148156785\n",
            "Epoch 20 loss: 6.643350783835581\n",
            "Epoch 21 loss: 6.401347646473746\n",
            "Epoch 22 loss: 6.195780935977586\n",
            "Epoch 23 loss: 6.0219454155430325\n",
            "Epoch 24 loss: 5.875567373416124\n",
            "Epoch 25 loss: 5.752796463610946\n",
            "Epoch 26 loss: 5.650198069050545\n",
            "Epoch 27 loss: 5.564739420018494\n",
            "Epoch 28 loss: 5.493768321761294\n",
            "Epoch 29 loss: 5.434985807015034\n",
            "Epoch 30 loss: 5.386414829935716\n",
            "Epoch 31 loss: 5.346367108155707\n",
            "Epoch 32 loss: 5.313409867217557\n",
            "Epoch 33 loss: 5.286333791421461\n",
            "Epoch 34 loss: 5.2641230555767695\n",
            "Epoch 35 loss: 5.245927952132176\n",
            "Epoch 36 loss: 5.231040350168683\n",
            "Epoch 37 loss: 5.218872021771407\n",
            "Epoch 38 loss: 5.208935735227729\n",
            "Epoch 39 loss: 5.200828929514289\n",
            "Epoch 40 loss: 5.194219737735522\n",
            "Epoch 41 loss: 5.188835107637898\n",
            "Epoch 42 loss: 5.184450766341785\n",
            "Epoch 43 loss: 5.180882787371741\n",
            "Epoch 44 loss: 5.177980536053782\n",
            "Epoch 45 loss: 5.175620790929321\n",
            "Epoch 46 loss: 5.1737028616498995\n",
            "Epoch 47 loss: 5.172144546322138\n",
            "Epoch 48 loss: 5.170878792520985\n",
            "Epoch 49 loss: 5.16985094565348\n",
            "Epoch 50 loss: 5.169016485794684\n"
          ]
        }
      ],
      "source": [
        "# Number of iterations or epoch\n",
        "epoch = 50\n",
        "alpha = 0.1\n",
        "losses = []\n",
        "params = np.ones((1,2), dtype=np.float64)\n",
        "for i in range(epoch):\n",
        "    loss, params = train(X_train, y_train, params, alpha)\n",
        "    losses.append(loss)\n",
        "    print(f\"Epoch {i+1} loss: {loss}\")"
      ]
    },
    {
      "cell_type": "code",
      "execution_count": 24,
      "metadata": {
        "colab": {
          "base_uri": "https://localhost:8080/",
          "height": 449
        },
        "id": "TUP45iu5jIdL",
        "outputId": "2bdc87e4-b542-47f1-c6a7-43281d35808b"
      },
      "outputs": [
        {
          "data": {
            "image/png": "[encoded data removed]",
            "text/plain": [
              "<Figure size 640x480 with 1 Axes>"
            ]
          },
          "metadata": {},
          "output_type": "display_data"
        }
      ],
      "source": [
        "fig = plt.figure()\n",
        "epochs = np.arange(1, epoch+1)\n",
        "plt.plot(epochs, losses)\n",
        "plt.xlabel(\"Epochs\")\n",
        "plt.ylabel(\"Training Loss\")\n",
        "plt.show()"
      ]
    },
    {
      "cell_type": "code",
      "execution_count": 25,
      "metadata": {
        "colab": {
          "base_uri": "https://localhost:8080/"
        },
        "id": "Vn7Hx9KhjYvV",
        "outputId": "c903aba1-39fe-4567-be8a-b62e428d1950"
      },
      "outputs": [
        {
          "name": "stdout",
          "output_type": "stream",
          "text": [
            "Training R2 score: 0.8092780604137841\n"
          ]
        }
      ],
      "source": [
        "# Calculation of training R2 score\n",
        "train_pred = (params * X_train).sum(axis=1)\n",
        "train_pred = np.reshape(train_pred, (len(train_pred), 1))\n",
        "train_r2 = r2_score(y_train, train_pred)\n",
        "print(f\"Training R2 score: {train_r2}\")"
      ]
    },
    {
      "cell_type": "code",
      "execution_count": 26,
      "metadata": {
        "colab": {
          "base_uri": "https://localhost:8080/"
        },
        "id": "HGDKNrbLjmyE",
        "outputId": "a054ae4c-9a3a-4511-e57c-f650be45e5bd"
      },
      "outputs": [
        {
          "name": "stdout",
          "output_type": "stream",
          "text": [
            "Test R2 score: 0.8324002954506058\n"
          ]
        }
      ],
      "source": [
        "test_r2 = r2_score(y_test, (params * X_test).sum(axis=1))\n",
        "print(f\"Test R2 score: {test_r2}\")"
      ]
    },
    {
      "cell_type": "code",
      "execution_count": 27,
      "metadata": {
        "colab": {
          "base_uri": "https://localhost:8080/",
          "height": 354
        },
        "id": "zKBl2bkokYuj",
        "outputId": "9cae5c7a-a9c1-4776-e1e7-bda6f59f768a"
      },
      "outputs": [
        {
          "data": {
            "text/plain": [
              "Text(0, 0.5, 'Sales')"
            ]
          },
          "execution_count": 27,
          "metadata": {},
          "output_type": "execute_result"
        },
        {
          "data": {
            "image/png": "[encoded data removed]",
            "text/plain": [
              "<Figure size 1500x700 with 2 Axes>"
            ]
          },
          "metadata": {},
          "output_type": "display_data"
        }
      ],
      "source": [
        "# subplot to linear regression ouput\n",
        "fig, (ax1, ax2) = plt.subplots(1,2, figsize=(15,7))\n",
        "x = X_train[:, 1]\n",
        "y = params[:, 0] + params[:, 1] * x\n",
        "ax1.scatter(tv[:180], sales[:180], label=\"Training Data\")\n",
        "ax1.plot(x, y, label=\"Linear Regression Model\", color=\"red\")\n",
        "ax1.legend()\n",
        "ax1.set_title(\"Training output\")\n",
        "ax1.set_xlabel(\"TV Advertisement\")\n",
        "ax1.set_ylabel(\"Sales\")\n",
        "x = X_test[:, 1]\n",
        "y = params[:, 0] + params[:, 1] * x\n",
        "ax2.scatter(tv[:180], sales[:180], label=\"Test Data\")\n",
        "ax2.plot(x, y, label=\"Linear Regression Model\", color=\"pink\")\n",
        "ax2.legend()\n",
        "ax2.set_title(\"Test output\")\n",
        "ax2.set_xlabel(\"TV Advertisement\")\n",
        "ax2.set_ylabel(\"Sales\")\n"
      ]
    }
  ],
  "metadata": {
    "colab": {
      "provenance": []
    },
    "kernelspec": {
      "display_name": "Python 3",
      "name": "python3"
    },
    "language_info": {
      "codemirror_mode": {
        "name": "ipython",
        "version": 3
      },
      "file_extension": ".py",
      "mimetype": "text/x-python",
      "name": "python",
      "nbconvert_exporter": "python",
      "pygments_lexer": "ipython3",
      "version": "3.12.1"
    }
  },
  "nbformat": 4,
  "nbformat_minor": 0
}
