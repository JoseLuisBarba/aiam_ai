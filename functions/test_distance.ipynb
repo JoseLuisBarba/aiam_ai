{
 "cells": [
  {
   "cell_type": "code",
   "execution_count": 1,
   "metadata": {},
   "outputs": [
    {
     "name": "stderr",
     "output_type": "stream",
     "text": [
      "[nltk_data] Downloading package punkt to\n",
      "[nltk_data]     C:\\Users\\Admin\\AppData\\Roaming\\nltk_data...\n",
      "[nltk_data]   Unzipping tokenizers\\punkt.zip.\n",
      "[nltk_data] Downloading package stopwords to\n",
      "[nltk_data]     C:\\Users\\Admin\\AppData\\Roaming\\nltk_data...\n",
      "[nltk_data]   Unzipping corpora\\stopwords.zip.\n"
     ]
    }
   ],
   "source": [
    "from distance import (\n",
    "    eucledian_distance, cosine_similarity, \n",
    "    hamming_distance, chebyshev_distance,\n",
    "    minkowski_distance, manhattan_distance,\n",
    "    jaccard_similarity\n",
    ")\n",
    "import numpy as np"
   ]
  },
  {
   "cell_type": "code",
   "execution_count": 2,
   "metadata": {},
   "outputs": [],
   "source": [
    "A = [1, 3, 5, 7, 9] \n",
    "B = [2, 4, 6, 8, 12]\n",
    "\n",
    "\n"
   ]
  },
  {
   "cell_type": "code",
   "execution_count": 3,
   "metadata": {},
   "outputs": [],
   "source": [
    "euc = eucledian_distance(A,B)\n",
    "cos = cosine_similarity(A,B)\n",
    "d_cos = 1 - cos"
   ]
  },
  {
   "cell_type": "code",
   "execution_count": 4,
   "metadata": {},
   "outputs": [
    {
     "name": "stdout",
     "output_type": "stream",
     "text": [
      "euc dist= 3.605551275463989\n",
      "cos simi= 0.9965965959318528\n",
      "d_cos dist= 0.003403404068147209\n"
     ]
    }
   ],
   "source": [
    "print( f\"euc dist= {euc}\")\n",
    "print( f\"cos simi= {cos}\")\n",
    "print( f\"d_cos dist= {d_cos}\")"
   ]
  },
  {
   "cell_type": "code",
   "execution_count": 5,
   "metadata": {},
   "outputs": [
    {
     "name": "stdout",
     "output_type": "stream",
     "text": [
      "hamming dist= 7\n"
     ]
    }
   ],
   "source": [
    "A = list(\"Euclidean\")\n",
    "B = list(\"Manhattan\")\n",
    "hamming = hamming_distance(A,B)\n",
    "print( f\"hamming dist= {hamming}\")"
   ]
  },
  {
   "cell_type": "code",
   "execution_count": 6,
   "metadata": {},
   "outputs": [],
   "source": [
    "\n",
    "integral = lambda y : (-0.01/4)*(y**4) + (0.16/3)*(y**3) + (-1.07/2)*(y**2) + 25*y"
   ]
  },
  {
   "cell_type": "code",
   "execution_count": 7,
   "metadata": {},
   "outputs": [
    {
     "name": "stdout",
     "output_type": "stream",
     "text": [
      "308.0625\n"
     ]
    }
   ],
   "source": [
    "area_curva = integral(15) - integral(0)\n",
    "print(area_curva)"
   ]
  },
  {
   "cell_type": "code",
   "execution_count": 8,
   "metadata": {},
   "outputs": [
    {
     "name": "stdout",
     "output_type": "stream",
     "text": [
      "30806.25\n"
     ]
    }
   ],
   "source": [
    "# obtener volumen\n",
    "volumen = 2 * 50 * area_curva\n",
    "print(volumen)"
   ]
  },
  {
   "cell_type": "markdown",
   "metadata": {},
   "source": [
    "# Exercise\n",
    "\n"
   ]
  },
  {
   "cell_type": "code",
   "execution_count": 9,
   "metadata": {},
   "outputs": [
    {
     "name": "stdout",
     "output_type": "stream",
     "text": [
      "euc dist= 100.65286881157436\n",
      "man dist= 0.630305615128243\n",
      "che dist= 82\n",
      "cos dist= 0.630305615128243\n",
      "mik dist= 0.630305615128243\n"
     ]
    }
   ],
   "source": [
    "A = [7, 30, 0, 9, 87] \n",
    "B = [4, 67, 2, 54, 5]\n",
    "euc = eucledian_distance(A,B)\n",
    "man = manhattan_distance(A,B)\n",
    "che = chebyshev_distance(A,B)\n",
    "cos = 1 - cosine_similarity(A,B)\n",
    "mik = minkowski_distance(A,B, 3)\n",
    "\n",
    "\n",
    "print( f\"euc dist= {euc}\")\n",
    "print( f\"man dist= {cos}\")\n",
    "print( f\"che dist= {che}\")\n",
    "print( f\"cos dist= {cos}\")\n",
    "print( f\"mik dist= {cos}\")"
   ]
  },
  {
   "cell_type": "code",
   "execution_count": 10,
   "metadata": {},
   "outputs": [
    {
     "name": "stdout",
     "output_type": "stream",
     "text": [
      "Word set Sentence 1 = {'sentence', 'foo', '.', 'This', 'bar'}\n",
      "Word set Sentence 2 = {'sentence', 'similar', 'foo', '.', 'This', 'bar'}\n",
      "Intersection = {'sentence', 'foo', '.', 'This', 'bar'}\n",
      "Union = {'sentence', 'similar', 'foo', '.', 'This', 'bar'}\n"
     ]
    },
    {
     "data": {
      "text/plain": [
       "0.8333333333333334"
      ]
     },
     "execution_count": 10,
     "metadata": {},
     "output_type": "execute_result"
    }
   ],
   "source": [
    "S1 = \"This foo bar is a sentence.\"\n",
    "S2 = \"This sentence is similar to foo bar.\"\n",
    "jaccard_similarity(S1, S2)"
   ]
  },
  {
   "cell_type": "code",
   "execution_count": 13,
   "metadata": {},
   "outputs": [
    {
     "data": {
      "text/plain": [
       "4"
      ]
     },
     "execution_count": 13,
     "metadata": {},
     "output_type": "execute_result"
    }
   ],
   "source": [
    "S1 = list(\"AATGCATTCG\")\n",
    "S2 = list(\"AATCGATTGC\")\n",
    "hamming_distance(S1, S2)"
   ]
  }
 ],
 "metadata": {
  "kernelspec": {
   "display_name": "Python 3",
   "language": "python",
   "name": "python3"
  },
  "language_info": {
   "codemirror_mode": {
    "name": "ipython",
    "version": 3
   },
   "file_extension": ".py",
   "mimetype": "text/x-python",
   "name": "python",
   "nbconvert_exporter": "python",
   "pygments_lexer": "ipython3",
   "version": "3.12.1"
  }
 },
 "nbformat": 4,
 "nbformat_minor": 2
}
