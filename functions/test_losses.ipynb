{
 "cells": [
  {
   "cell_type": "code",
   "execution_count": 1,
   "metadata": {},
   "outputs": [],
   "source": [
    "from losses import (\n",
    "    MSE, \n",
    "    MAE,\n",
    "    RMSE,\n",
    "    MAPE,\n",
    "    huber_loss, \n",
    "    categorical_cross_entropy\n",
    ")"
   ]
  },
  {
   "cell_type": "code",
   "execution_count": 2,
   "metadata": {},
   "outputs": [],
   "source": [
    "y = [1.08, 1.2, 1.4, 2.1, 1.9, 7, 2.9] \n",
    "y_hat = [0.7, 1.1, 1.5, 1.9, 2.3, 2.7, 3.1]"
   ]
  },
  {
   "cell_type": "code",
   "execution_count": 3,
   "metadata": {},
   "outputs": [],
   "source": [
    "mse = MSE(y, y_hat)\n",
    "mae = MAE(y, y_hat)\n",
    "huber = huber_loss(y,y_hat, 1.35)"
   ]
  },
  {
   "cell_type": "code",
   "execution_count": 4,
   "metadata": {},
   "outputs": [
    {
     "name": "stdout",
     "output_type": "stream",
     "text": [
      "mse loss= 2.6992\n",
      "mae loss= 0.8114285714285715\n",
      "huber loss= 0.7279928571428573\n"
     ]
    }
   ],
   "source": [
    "print( f\"mse loss= {mse}\")\n",
    "print( f\"mae loss= {mae}\")\n",
    "print( f\"huber loss= {huber}\")"
   ]
  },
  {
   "cell_type": "code",
   "execution_count": 5,
   "metadata": {},
   "outputs": [],
   "source": [
    "y = [0, 1, 0] \n",
    "y_hat = [0.02,0.97835,0.00165]"
   ]
  },
  {
   "cell_type": "code",
   "execution_count": 6,
   "metadata": {},
   "outputs": [],
   "source": [
    "ce_loss = categorical_cross_entropy(y=y, y_hat=y_hat)"
   ]
  },
  {
   "cell_type": "code",
   "execution_count": 7,
   "metadata": {},
   "outputs": [
    {
     "name": "stdout",
     "output_type": "stream",
     "text": [
      "Cross-Entropy Loss= 0.009505750655915442\n"
     ]
    }
   ],
   "source": [
    "print( f\"Cross-Entropy Loss= {ce_loss}\")"
   ]
  },
  {
   "cell_type": "markdown",
   "metadata": {},
   "source": [
    "# Exercise"
   ]
  },
  {
   "cell_type": "code",
   "execution_count": 8,
   "metadata": {},
   "outputs": [],
   "source": [
    "import numpy as np"
   ]
  },
  {
   "cell_type": "code",
   "execution_count": 9,
   "metadata": {},
   "outputs": [
    {
     "name": "stdout",
     "output_type": "stream",
     "text": [
      "mse loss= 2.812\n",
      "mae loss= 1.6\n",
      "rmse loss= 1.6769019053003666\n",
      "mape loss= 1.6769019053003666\n"
     ]
    }
   ],
   "source": [
    "A = np.array([1, 2, 3, 4, 5])  \n",
    "B = np.array([0, 0.9, 1.4, 1.7, 7]) \n",
    "\n",
    "mse = MSE(B, A)\n",
    "mae = MAE(B, A)\n",
    "rmse = RMSE(B, A)\n",
    "mape = MAPE(B, A)\n",
    "\n",
    "print( f\"mse loss= {mse}\")\n",
    "print( f\"mae loss= {mae}\")\n",
    "print( f\"rmse loss= {rmse}\")\n",
    "print( f\"mape loss= {rmse}\")"
   ]
  },
  {
   "cell_type": "code",
   "execution_count": 10,
   "metadata": {},
   "outputs": [
    {
     "name": "stdout",
     "output_type": "stream",
     "text": [
      "mse loss= 745.1220000000001\n"
     ]
    }
   ],
   "source": [
    "y = [80, 86, 89, 95, 98] \n",
    "y_hat = [81, 84.5, 150, 95.6, 99]\n",
    "mse = MSE(y, y_hat)\n",
    "print( f\"mse loss= {mse}\")"
   ]
  },
  {
   "cell_type": "code",
   "execution_count": 11,
   "metadata": {},
   "outputs": [
    {
     "name": "stdout",
     "output_type": "stream",
     "text": [
      "huber loss= 58.961\n"
     ]
    }
   ],
   "source": [
    "huber = huber_loss(y,y_hat, 5)\n",
    "print( f\"huber loss= {huber}\") # less afected by an outlier"
   ]
  },
  {
   "cell_type": "code",
   "execution_count": 12,
   "metadata": {},
   "outputs": [
    {
     "name": "stdout",
     "output_type": "stream",
     "text": [
      "Cross-Entropy Loss= 0.00877392430750515\n"
     ]
    }
   ],
   "source": [
    "#multy-class cross entropy\n",
    "y = np.array([0, 1]) \n",
    "y_hat = np.array([0.2, 0.98])\n",
    "ce_loss = categorical_cross_entropy(y=y, y_hat=y_hat)\n",
    "print( f\"Cross-Entropy Loss= {ce_loss}\")"
   ]
  },
  {
   "cell_type": "markdown",
   "metadata": {},
   "source": [
    "$−[ylog(y^{hat}) + (1 − y)log(1 − (y^{hat}))]$"
   ]
  },
  {
   "cell_type": "code",
   "execution_count": 13,
   "metadata": {},
   "outputs": [
    {
     "data": {
      "text/plain": [
       "0.00877392430750515"
      ]
     },
     "execution_count": 13,
     "metadata": {},
     "output_type": "execute_result"
    }
   ],
   "source": [
    "# binary cross entropy\n",
    "y_hat = 0.98\n",
    "y = 1\n",
    "-(y * np.log10(y_hat) + (1- y) * np.log10(1 - y_hat)) #mismo resultado"
   ]
  },
  {
   "cell_type": "code",
   "execution_count": null,
   "metadata": {},
   "outputs": [],
   "source": []
  },
  {
   "cell_type": "markdown",
   "metadata": {},
   "source": []
  }
 ],
 "metadata": {
  "kernelspec": {
   "display_name": "Python 3",
   "language": "python",
   "name": "python3"
  },
  "language_info": {
   "codemirror_mode": {
    "name": "ipython",
    "version": 3
   },
   "file_extension": ".py",
   "mimetype": "text/x-python",
   "name": "python",
   "nbconvert_exporter": "python",
   "pygments_lexer": "ipython3",
   "version": "3.12.1"
  }
 },
 "nbformat": 4,
 "nbformat_minor": 2
}
